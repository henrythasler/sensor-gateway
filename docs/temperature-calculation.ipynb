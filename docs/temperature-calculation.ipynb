{
 "cells": [
  {
   "cell_type": "markdown",
   "metadata": {},
   "source": [
    "# Introduction"
   ]
  },
  {
   "cell_type": "markdown",
   "metadata": {},
   "source": [
    "The temperature measurement is done with the following circuit:"
   ]
  },
  {
   "cell_type": "markdown",
   "metadata": {},
   "source": [
    "![](schematic-sensor.png)"
   ]
  },
  {
   "cell_type": "markdown",
   "metadata": {},
   "source": [
    "The value of the thermistor is defined as $ R_T=R_N \\cdot e^{B \\cdot \\left(\\frac{1}{T} - \\frac{1}{T_N}\\right)} $ with $ T_N = 298.15 $. \n",
    "\n",
    "This results in: $ T = \\frac{B \\cdot T_N}{B + \\ln\\left( \\frac{R_T}{R_N} \\right) \\cdot T_N} $\n",
    "\n",
    "*Please note: Temperature values must be given in Kelvin.*"
   ]
  },
  {
   "cell_type": "markdown",
   "metadata": {},
   "source": [
    "Based on the following equations:\n",
    "$$\n",
    "\\begin{align}\n",
    "U_4 &= U_3 + U_1 + U_2 \\\\\n",
    "V_{CC} &= U_{R_T} + U_4 \\\\\n",
    "I &= I_3 + I_4\n",
    "\\end{align}\n",
    "$$"
   ]
  },
  {
   "cell_type": "markdown",
   "metadata": {},
   "source": [
    "and\n",
    "$$\n",
    "\n",
    "$$"
   ]
  },
  {
   "cell_type": "code",
   "execution_count": 59,
   "metadata": {},
   "outputs": [],
   "source": [
    "from IPython.display import Markdown as md\n",
    "import numpy as np\n",
    "from matplotlib import pyplot as plt\n",
    "from scipy.optimize import curve_fit"
   ]
  },
  {
   "cell_type": "code",
   "execution_count": 60,
   "metadata": {},
   "outputs": [],
   "source": [
    "pt1000 = np.array([[-20, -15, -10, -5, 0,5,10,15,20,25,30],[8194, 6256, 4825, 3758, 2954, 2342,1872,1508,1224,1000,823]])\n",
    "R_N = 1000\n",
    "T_N = 298.15"
   ]
  },
  {
   "cell_type": "code",
   "execution_count": 61,
   "metadata": {},
   "outputs": [],
   "source": [
    "def R_T_func(T, B):\n",
    "    return R_N * np.exp(B*(1/T - 1/T_N)) "
   ]
  },
  {
   "cell_type": "code",
   "execution_count": 112,
   "metadata": {},
   "outputs": [
    {
     "data": {
      "image/png": "[encoded data removed]",
      "text/plain": [
       "<Figure size 432x288 with 1 Axes>"
      ]
     },
     "metadata": {
      "needs_background": "light"
     },
     "output_type": "display_data"
    }
   ],
   "source": [
    "pt_parameter, covariance_matrix = curve_fit(R_T_func, pt1000[0]+273.15, pt1000[1])\n",
    "x_data = np.arange(-30, 41, 5)\n",
    "y_data = R_T_func(x_data+273.15, *pt_parameter)\n",
    "\n",
    "plt.plot(x_data, y_data, 'b-', label='fit')\n",
    "plt.plot(pt1000[0], pt1000[1], 'ro')\n",
    "plt.title('Pt1000');"
   ]
  },
  {
   "cell_type": "code",
   "execution_count": 113,
   "metadata": {},
   "outputs": [
    {
     "data": {
      "text/markdown": [
       "Based on model data we get $B=3528.01$."
      ],
      "text/plain": [
       "<IPython.core.display.Markdown object>"
      ]
     },
     "execution_count": 113,
     "metadata": {},
     "output_type": "execute_result"
    }
   ],
   "source": [
    "md(\"Based on model data we get $B={:.2f}$.\".format(pt_parameter[0]))"
   ]
  },
  {
   "cell_type": "markdown",
   "metadata": {},
   "source": [
    "## Calculating the temperature\n",
    "\n",
    "To actually calculate the current temperature from a given ADC-value we need to\n",
    "\n",
    "1. get a general idea what the formula looks like\n",
    "2. sample data"
   ]
  },
  {
   "cell_type": "code",
   "execution_count": 121,
   "metadata": {},
   "outputs": [],
   "source": [
    "raw = np.array([787, 780, 773, 754, 749, 729, 717, 722, 725, 731.3])\n",
    "temp = np.array([28.1, 27, 26.7, 24.4, 24, 21.5, 20.3, 20.7, 21, 21.6])+273.15"
   ]
  },
  {
   "cell_type": "markdown",
   "metadata": {},
   "source": [
    "Linear approach: $ T = m \\cdot raw + b $"
   ]
  },
  {
   "cell_type": "code",
   "execution_count": 122,
   "metadata": {},
   "outputs": [],
   "source": [
    "# linear approach\n",
    "def T_func(raw, m, b):\n",
    "    return m * raw + b"
   ]
  },
  {
   "cell_type": "code",
   "execution_count": 123,
   "metadata": {},
   "outputs": [
    {
     "data": {
      "image/png": "[encoded data removed]",
      "text/plain": [
       "<Figure size 432x288 with 1 Axes>"
      ]
     },
     "metadata": {
      "needs_background": "light"
     },
     "output_type": "display_data"
    }
   ],
   "source": [
    "T_parameter, covariance_matrix = curve_fit(T_func, raw, temp)\n",
    "x_data = np.arange(700, 800, 10)\n",
    "y_data = T_func(x_data, *T_parameter)\n",
    "\n",
    "plt.plot(x_data, y_data-273.15, 'b-', label='fit')\n",
    "plt.plot(raw, temp-273.15, 'ro', label='data')\n",
    "plt.title('Raw to Temperature');"
   ]
  },
  {
   "cell_type": "code",
   "execution_count": 120,
   "metadata": {
    "jupyter": {
     "source_hidden": true
    }
   },
   "outputs": [
    {
     "data": {
      "text/markdown": [
       "Based on linear model we get $m=0.112$ and $b=212.832$."
      ],
      "text/plain": [
       "<IPython.core.display.Markdown object>"
      ]
     },
     "execution_count": 120,
     "metadata": {},
     "output_type": "execute_result"
    }
   ],
   "source": [
    "md(\"Based on linear model we get $m={:.3f}$ and $b={:.3f}$.\".format(T_parameter[0], T_parameter[1]))"
   ]
  },
  {
   "cell_type": "code",
   "execution_count": null,
   "metadata": {},
   "outputs": [],
   "source": []
  }
 ],
 "metadata": {
  "kernelspec": {
   "display_name": "Python 3",
   "language": "python",
   "name": "python3"
  },
  "language_info": {
   "codemirror_mode": {
    "name": "ipython",
    "version": 3
   },
   "file_extension": ".py",
   "mimetype": "text/x-python",
   "name": "python",
   "nbconvert_exporter": "python",
   "pygments_lexer": "ipython3",
   "version": "3.8.2"
  }
 },
 "nbformat": 4,
 "nbformat_minor": 4
}
